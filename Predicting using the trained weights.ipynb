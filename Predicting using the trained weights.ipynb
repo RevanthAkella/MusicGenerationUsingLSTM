{
 "cells": [
  {
   "cell_type": "code",
   "execution_count": 1,
   "metadata": {},
   "outputs": [
    {
     "name": "stderr",
     "output_type": "stream",
     "text": [
      "Using TensorFlow backend.\n"
     ]
    }
   ],
   "source": [
    "import pickle\n",
    "import numpy\n",
    "from music21 import instrument, note, stream, chord\n",
    "from keras.models import Sequential\n",
    "from keras.layers import Dense\n",
    "from keras.layers import Dropout\n",
    "from keras.layers import LSTM\n",
    "from keras.layers import Activation"
   ]
  },
  {
   "cell_type": "code",
   "execution_count": null,
   "metadata": {},
   "outputs": [],
   "source": [
    "def generate():\n",
    "    # load notes used for training the model\n",
    "    with open('notes','rb') as filepath:\n",
    "        notes = pickle.load(filepath)\n",
    "\n",
    "    #get all pitch names\n",
    "    pitchnames = sorted(set(item for item in notes))\n",
    "    n_vocab = len(set(notes))\n",
    "    \n",
    "    network_input, normalized_input = prepare_sequences(notes, pitchnames, n_vocab)\n",
    "    model = create_network(normalized_input, n_vocab)\n",
    "    prediction_output = generate_notes(model, network_input, pitchnames, n_vocab)\n",
    "    create_midi(prediction_output)\n",
    "    \n",
    "    "
   ]
  },
  {
   "cell_type": "code",
   "execution_count": null,
   "metadata": {},
   "outputs": [],
   "source": [
    "def prepare_sequences(notes, pitchnames, n_vocab):\n",
    "    note_to_int = dict((note, number) for number, note in enumerate(pitchnames))\n",
    "    \n",
    "    sequence_length = 100\n",
    "    network_input = []\n",
    "    output = []\n",
    "    for i in range(0,len(notes)-sequence_length, 1):\n",
    "        sequence_in = notes[i:i+sequence_length]\n",
    "        sequence_out = notes[i+sequence_length]\n",
    "        network_input.append([note_to_int[char]] for char in sequence_in)\n",
    "        output.append(note_to_int[sequence_out])\n",
    "        \n",
    "    n_patterns = len(network_output)\n",
    "    \n",
    "    #reshape input into a format compatible with LSTM layers\n",
    "    normalized_input = numpy.reshape(network_input, (n_patterns, sequence_length, 1))\n",
    "    #normalize input\n",
    "    normalized_input = normalized_input/(n_vocab)\n",
    "    \n",
    "    return(netowork_input)"
   ]
  },
  {
   "cell_type": "code",
   "execution_count": null,
   "metadata": {},
   "outputs": [],
   "source": [
    "#Reuse training code to load weights\n",
    "\n",
    "\n",
    "def create_network(network_input, n_vocab):\n",
    "    model.add(LSTM(\n",
    "        512,\n",
    "        input_shape=(network_input.shape[1], network_input.shape[2]),\n",
    "        return_sequences=True\n",
    "    ))\n",
    "    model.add(Dropout(0.3))\n",
    "    model.add(LSTM(512, return_sequences=True))\n",
    "    model.add(Dropout(0.3))\n",
    "    model.add(LSTM(512))\n",
    "    model.add(Dense(256))\n",
    "    model.add(Dropout(0.3))\n",
    "    model.add(Dense(n_vocab))\n",
    "    model.add(Activation('softmax'))\n",
    "    model.compile(loss='categorical_crossentropy', optimizer='rmsprop')\n",
    "    # Load the weights to each node\n",
    "    model.load_weights('weights.hdf5')\n",
    "    \n",
    "    return model"
   ]
  },
  {
   "cell_type": "code",
   "execution_count": null,
   "metadata": {},
   "outputs": [],
   "source": [
    "# Note Generation using Trained Notes\n",
    "\n",
    "def note_generation(model, network_input, pitchnames, n_vocab):\n",
    "    #pick a random note from the NN as a starting point for prediction\n",
    "    start = numpy.random.randint(0, len(network_input)-1)\n",
    "\n",
    "    int_to_note = dict((number, note) for number, note in enumerate(pitchnames))\n",
    "\n",
    "    pattern = network_input[start]\n",
    "    prediction_output = []\n",
    "\n",
    "    #generate 500 notes\n",
    "\n",
    "    for note_index in range(500):\n",
    "        prediction_input = numpy.reshape(pattern(1, len(pattern), 1))\n",
    "        prediction_input = prediction_input/float(n_vocab)\n",
    "\n",
    "        prediction = model.predict(prediction_input, verbose=0)\n",
    "\n",
    "        index = numpy.argmax(prediction)\n",
    "        result = int_to_note[index]\n",
    "        prediction_output.append(result)\n",
    "\n",
    "        pattern.append(index)\n",
    "        pattern = pattern[1:len(pattern)]\n",
    "        \n",
    "    return prediction_output\n",
    "\n"
   ]
  },
  {
   "cell_type": "code",
   "execution_count": null,
   "metadata": {},
   "outputs": [],
   "source": [
    "# The first sequence we submit is the sequence of notes \n",
    "# at the starting index. For every subsequent sequence that \n",
    "# we use as input, we will remove the first note of the sequence \n",
    "# and insert the output of the previous iteration at the end of \n",
    "# the sequence.\n",
    "\n",
    "\n",
    "# To determine the most likely prediction from the output \n",
    "# from the network, we extract the index of the highest value. \n",
    "# The value at index X in the output array correspond to the \n",
    "# probability that X is the next note.\n",
    "\n",
    "# First we have to determine whether the output we are decoding is \n",
    "# a Note or a Chord.\n",
    "# If the pattern is a Chord, we have to split the string up \n",
    "# into an array of notes. Then we loop through the string \n",
    "# representation of each note and create a Note object for \n",
    "# each of them. Then we can create a Chord object containing \n",
    "# each of these notes.\n",
    "\n",
    "\n",
    "# If the pattern is a Note, we create a Note object using the \n",
    "# string representation of the pitch contained in the pattern.\n",
    "\n",
    "# At the end of each iteration we increase the offset by 0.5 \n",
    "# (as we decided in a previous section) and append the Note/Chord \n",
    "# object created to a list."
   ]
  },
  {
   "cell_type": "code",
   "execution_count": null,
   "metadata": {},
   "outputs": [],
   "source": [
    "def create_midi(prediction_output):\n",
    "    offset = 0\n",
    "    output_notes = []\n",
    "\n",
    "    #create note and chord objects - based on values from the model\n",
    "\n",
    "    for pattern in prediction_output:\n",
    "        #pattern is a chord\n",
    "        if('.' in pattern) or pattern.isdigit():\n",
    "            notes_in_chord = pattern.split('.')\n",
    "            notes = []\n",
    "            for current_note in notes_in_chord:\n",
    "                new_note = note.Note(int(current_note))\n",
    "                new_note.storedInstrument = instrument.Piano()\n",
    "                notes.append(new_note)\n",
    "            new_chord = chord.Chord(notes)\n",
    "            new_chord.offset = offset\n",
    "            output_notes.append(new_chord)\n",
    "        #pattern is a note\n",
    "        else:\n",
    "            new_note = note.Note(pattern)\n",
    "            new_note.offset = offset\n",
    "            new_note.storedInstrument = instrument.Piano()\n",
    "            output_notes.append(new_note)\n",
    "\n",
    "        #increase offset each iteration so that the notes do not stack\n",
    "        offset += 0.5\n",
    "        midi_stream = stream.Stream(output_notes)\n",
    "        midi_stream.write('midi', fp='test_output.mid')\n",
    "        \n",
    "        \n",
    "    if __name"
   ]
  },
  {
   "cell_type": "code",
   "execution_count": null,
   "metadata": {},
   "outputs": [],
   "source": []
  }
 ],
 "metadata": {
  "kernelspec": {
   "display_name": "Python 3",
   "language": "python",
   "name": "python3"
  },
  "language_info": {
   "codemirror_mode": {
    "name": "ipython",
    "version": 3
   },
   "file_extension": ".py",
   "mimetype": "text/x-python",
   "name": "python",
   "nbconvert_exporter": "python",
   "pygments_lexer": "ipython3",
   "version": "3.6.4"
  }
 },
 "nbformat": 4,
 "nbformat_minor": 2
}
